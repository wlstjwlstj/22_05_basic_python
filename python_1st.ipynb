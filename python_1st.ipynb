{
  "nbformat": 4,
  "nbformat_minor": 0,
  "metadata": {
    "colab": {
      "provenance": [],
      "authorship_tag": "ABX9TyMt1l5E0KTRjFjLAD/qYQ7o",
      "include_colab_link": true
    },
    "kernelspec": {
      "name": "python3",
      "display_name": "Python 3"
    },
    "language_info": {
      "name": "python"
    }
  },
  "cells": [
    {
      "cell_type": "markdown",
      "metadata": {
        "id": "view-in-github",
        "colab_type": "text"
      },
      "source": [
        "<a href=\"https://colab.research.google.com/github/wlstjwlstj/22_05_basic_python/blob/main/python_1st.ipynb\" target=\"_parent\"><img src=\"https://colab.research.google.com/assets/colab-badge.svg\" alt=\"Open In Colab\"/></a>"
      ]
    },
    {
      "cell_type": "markdown",
      "source": [
        "1. \"안녕하세요\"를 화면에 출력해보자."
      ],
      "metadata": {
        "id": "weflApduZB9s"
      }
    },
    {
      "cell_type": "code",
      "source": [
        "print('안녕하세요')\n"
      ],
      "metadata": {
        "colab": {
          "base_uri": "https://localhost:8080/"
        },
        "id": "FqicSx0kZbPb",
        "outputId": "45357a17-51c4-4939-f10e-dfcdf0e26a69"
      },
      "execution_count": 1,
      "outputs": [
        {
          "output_type": "stream",
          "name": "stdout",
          "text": [
            "안녕하세요\n"
          ]
        }
      ]
    },
    {
      "cell_type": "markdown",
      "source": [
        "2. programing에 입문하신 것을 축하드립니다.를 출력하시오."
      ],
      "metadata": {
        "id": "htCCQSzJZ4PX"
      }
    },
    {
      "cell_type": "code",
      "source": [
        "print('programing에 입문하신 것을 축하드립니다')"
      ],
      "metadata": {
        "colab": {
          "base_uri": "https://localhost:8080/"
        },
        "id": "0NcP5yXIaP0P",
        "outputId": "dea3cf35-06f4-452f-9321-e9224c457acc"
      },
      "execution_count": 2,
      "outputs": [
        {
          "output_type": "stream",
          "name": "stdout",
          "text": [
            "programing에 입문하신 것을 축하드립니다\n"
          ]
        }
      ]
    }
  ]
}